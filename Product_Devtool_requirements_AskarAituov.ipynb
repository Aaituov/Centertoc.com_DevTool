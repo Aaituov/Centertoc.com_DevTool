{
  "nbformat": 4,
  "nbformat_minor": 0,
  "metadata": {
    "colab": {
      "provenance": []
    },
    "kernelspec": {
      "name": "python3",
      "display_name": "Python 3"
    },
    "language_info": {
      "name": "python"
    }
  },
  "cells": [
    {
      "cell_type": "code",
      "execution_count": null,
      "metadata": {
        "id": "oIU5wfEAJYJB"
      },
      "outputs": [],
      "source": [
        "pip install mercury"
      ]
    },
    {
      "cell_type": "markdown",
      "source": [
        "https://towardsdatascience.com/create-a-web-app-from-your-jupyter-notebook-with-mercury-21239b7abb37\n",
        "https://towardsdatascience.com/build-elegant-web-apps-right-from-jupyter-notebook-with-mercury-78d9ebcbbcaf\n",
        "https://runmercury.com/tutorials/web-app-python-jupyter-notebook/\n",
        "\n",
        "Trained model is stored here:\n",
        "https://teachablemachine.withgoogle.com/models/yRmSW8H26/\n",
        "\n",
        "\n",
        "Code snipped to use the model:\n",
        "<div>Teachable Machine Image Model</div>\n",
        "<button type=\"button\" onclick=\"init()\">Start</button>\n",
        "<div id=\"webcam-container\"></div>\n",
        "<div id=\"label-container\"></div>\n",
        "<script src=\"https://cdn.jsdelivr.net/npm/@tensorflow/tfjs@latest/dist/tf.min.js\"></script>\n",
        "<script src=\"https://cdn.jsdelivr.net/npm/@teachablemachine/image@latest/dist/teachablemachine-image.min.js\"></script>\n",
        "<script type=\"text/javascript\">\n",
        "    // More API functions here:\n",
        "    // https://github.com/googlecreativelab/teachablemachine-community/tree/master/libraries/image\n",
        "\n",
        "    // the link to your model provided by Teachable Machine export panel\n",
        "    const URL = \"https://teachablemachine.withgoogle.com/models/yRmSW8H26/\";\n",
        "\n",
        "    let model, webcam, labelContainer, maxPredictions;\n",
        "\n",
        "    // Load the image model and setup the webcam\n",
        "    async function init() {\n",
        "        const modelURL = URL + \"model.json\";\n",
        "        const metadataURL = URL + \"metadata.json\";\n",
        "\n",
        "        // load the model and metadata\n",
        "        // Refer to tmImage.loadFromFiles() in the API to support files from a file picker\n",
        "        // or files from your local hard drive\n",
        "        // Note: the pose library adds \"tmImage\" object to your window (window.tmImage)\n",
        "        model = await tmImage.load(modelURL, metadataURL);\n",
        "        maxPredictions = model.getTotalClasses();\n",
        "\n",
        "        // Convenience function to setup a webcam\n",
        "        const flip = true; // whether to flip the webcam\n",
        "        webcam = new tmImage.Webcam(200, 200, flip); // width, height, flip\n",
        "        await webcam.setup(); // request access to the webcam\n",
        "        await webcam.play();\n",
        "        window.requestAnimationFrame(loop);\n",
        "\n",
        "        // append elements to the DOM\n",
        "        document.getElementById(\"webcam-container\").appendChild(webcam.canvas);\n",
        "        labelContainer = document.getElementById(\"label-container\");\n",
        "        for (let i = 0; i < maxPredictions; i++) { // and class labels\n",
        "            labelContainer.appendChild(document.createElement(\"div\"));\n",
        "        }\n",
        "    }\n",
        "\n",
        "    async function loop() {\n",
        "        webcam.update(); // update the webcam frame\n",
        "        await predict();\n",
        "        window.requestAnimationFrame(loop);\n",
        "    }\n",
        "\n",
        "    // run the webcam image through the image model\n",
        "    async function predict() {\n",
        "        // predict can take in an image, video or canvas html element\n",
        "        const prediction = await model.predict(webcam.canvas);\n",
        "        for (let i = 0; i < maxPredictions; i++) {\n",
        "            const classPrediction =\n",
        "                prediction[i].className + \": \" + prediction[i].probability.toFixed(2);\n",
        "            labelContainer.childNodes[i].innerHTML = classPrediction;\n",
        "        }\n",
        "    }\n",
        "</script>\n"
      ],
      "metadata": {
        "id": "EB69pO_yq6Je"
      }
    },
    {
      "cell_type": "code",
      "source": [
        "import mercury as mr # for widgets\n",
        "import random # for random data generation\n",
        "from matplotlib import pyplot as plt # for chart"
      ],
      "metadata": {
        "id": "g8prbnQ_Jwdr"
      },
      "execution_count": 3,
      "outputs": []
    },
    {
      "cell_type": "code",
      "source": [
        "app = mr.App(title=\"Hello in Mercury!\", description=\"Samples app in Mercury\")"
      ],
      "metadata": {
        "colab": {
          "base_uri": "https://localhost:8080/",
          "height": 75
        },
        "id": "_o1ToAjYJ2GD",
        "outputId": "406f87d3-e79a-4068-9453-8eee0de3d04b"
      },
      "execution_count": 4,
      "outputs": [
        {
          "output_type": "display_data",
          "data": {
            "text/plain": [
              "mercury.App"
            ],
            "text/html": [
              "<h3>Mercury Application</h3><small>This output won't appear in the web app.</small>"
            ],
            "application/mercury+json": "{\n    \"widget\": \"App\",\n    \"title\": \"Hello in Mercury!\",\n    \"description\": \"Samples app in Mercury\",\n    \"show_code\": false,\n    \"show_prompt\": false,\n    \"output\": \"app\",\n    \"schedule\": \"\",\n    \"notify\": \"{}\",\n    \"continuous_update\": true,\n    \"static_notebook\": false,\n    \"show_sidebar\": true,\n    \"full_screen\": true,\n    \"allow_download\": true,\n    \"model_id\": \"mercury-app\",\n    \"code_uid\": \"App.0.40.24.1-randaa4c2fc1\"\n}"
          },
          "metadata": {}
        }
      ]
    },
    {
      "cell_type": "code",
      "source": [
        "# Hello in Mercury! 👋"
      ],
      "metadata": {
        "id": "rbf7qpyYJ6iF"
      },
      "execution_count": 5,
      "outputs": []
    },
    {
      "cell_type": "code",
      "source": [
        "name = mr.Text(label=\"Enter your user requirement?\", value=\"Piotr\")\n"
      ],
      "metadata": {
        "id": "JzDE0dilJ9dk"
      },
      "execution_count": null,
      "outputs": []
    },
    {
      "cell_type": "markdown",
      "source": [
        "Launch Trained model from the source code here. It can be launched via tensorflow.js. You can also download the model here https://teachablemachine.withgoogle.com/models/yRmSW8H26/\n",
        "\n",
        "Or use the Teachable machine code snippet https://github.com/googlecreativelab/teachablemachine-community/blob/master/snippets/markdown/image/tensorflow/keras.md"
      ],
      "metadata": {
        "id": "uRu6vBILq5PB"
      }
    }
  ]
}
